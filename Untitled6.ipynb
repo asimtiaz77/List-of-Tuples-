{
 "cells": [
  {
   "cell_type": "code",
   "execution_count": 1,
   "id": "371f4e02",
   "metadata": {},
   "outputs": [
    {
     "name": "stdout",
     "output_type": "stream",
     "text": [
      "Original List of Tuples: [('apple', 5), ('banana', 2), ('orange', 8), ('grapes', 3), ('pineapple', 1)]\n",
      "Converted Dictionary: {'apple': 5, 'banana': 2, 'orange': 8, 'grapes': 3, 'pineapple': 1}\n"
     ]
    }
   ],
   "source": [
    "def convert_to_dictionary(data_list):\n",
    "    result_dict = {}\n",
    "    for item in data_list:\n",
    "        result_dict[item[0]] = item[1]\n",
    "    return result_dict\n",
    "\n",
    "data_list = [('apple', 5), ('banana', 2), ('orange', 8), ('grapes', 3), ('pineapple', 1)]\n",
    "converted_dict = convert_to_dictionary(data_list)\n",
    "\n",
    "print(\"Original List of Tuples:\", data_list)\n",
    "print(\"Converted Dictionary:\", converted_dict)"
   ]
  },
  {
   "cell_type": "code",
   "execution_count": null,
   "id": "58d71f9c",
   "metadata": {},
   "outputs": [],
   "source": []
  }
 ],
 "metadata": {
  "kernelspec": {
   "display_name": "Python 3 (ipykernel)",
   "language": "python",
   "name": "python3"
  },
  "language_info": {
   "codemirror_mode": {
    "name": "ipython",
    "version": 3
   },
   "file_extension": ".py",
   "mimetype": "text/x-python",
   "name": "python",
   "nbconvert_exporter": "python",
   "pygments_lexer": "ipython3",
   "version": "3.11.4"
  }
 },
 "nbformat": 4,
 "nbformat_minor": 5
}
